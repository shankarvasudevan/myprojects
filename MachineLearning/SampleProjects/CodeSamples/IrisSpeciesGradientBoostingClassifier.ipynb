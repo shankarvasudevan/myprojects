{
 "cells": [
  {
   "cell_type": "code",
   "execution_count": 7,
   "metadata": {},
   "outputs": [
    {
     "name": "stdout",
     "output_type": "stream",
     "text": [
      "Decision function shape:(38, 3)\n",
      "Decision function:\n",
      "[[-0.50692424 -0.53347791  1.53022838]\n",
      " [-0.51151707  1.50574741 -0.48234855]\n",
      " [ 1.51897822 -0.53079866 -0.48146442]\n",
      " [-0.50756256 -0.53347791  1.53022838]\n",
      " [ 1.51897822 -0.53079866 -0.48146442]\n",
      " [-0.50985911 -0.53347791  1.53022838]]\n",
      "Argmax of decision function:\n",
      "[2 1 0 2 0 2 0 1 1 1 2 1 1 1 1 0 1 1 0 0 2 1 0 0 2 0 0 1 1 0 2 1 0 2 2 1 0\n",
      " 2]\n",
      "Predictions:\n",
      "[2 1 0 2 0 2 0 1 1 1 2 1 1 1 1 0 1 1 0 0 2 1 0 0 2 0 0 1 1 0 2 1 0 2 2 1 0\n",
      " 2]\n",
      "Predicted probabilities:\n",
      "[[ 0.10370714  0.10098957  0.79530329]\n",
      " [ 0.10474133  0.7874172   0.10784147]\n",
      " [ 0.79111482  0.10186682  0.10701837]\n",
      " [ 0.10364782  0.10099625  0.79535593]\n",
      " [ 0.79111482  0.10186682  0.10701837]\n",
      " [ 0.10343465  0.10102027  0.79554508]]\n",
      "Sums:[ 1.  1.  1.  1.  1.  1.]\n",
      "Argmax of predicted probabilities:\n",
      "[2 1 0 2 0 2 0 1 1 1 2 1 1 1 1 0 1 1 0 0 2 1 0 0 2 0 0 1 1 0 2 1 0 2 2 1 0\n",
      " 2]\n"
     ]
    }
   ],
   "source": [
    "from sklearn.datasets import load_iris\n",
    "from sklearn.model_selection import train_test_split\n",
    "from sklearn.ensemble import GradientBoostingClassifier\n",
    "import numpy as np\n",
    "\n",
    "iris_dataset = load_iris()\n",
    "\n",
    "x_train,x_test,y_train,y_test = train_test_split(iris_dataset['data'],iris_dataset['target'],random_state=0)\n",
    "\n",
    "gbrt = GradientBoostingClassifier(learning_rate=0.01, random_state=0)\n",
    "gbrt.fit(x_train,y_train)\n",
    "\n",
    "print(\"Decision function shape:{}\".format(gbrt.decision_function(x_test).shape))\n",
    "print(\"Decision function:\\n{}\".format(gbrt.decision_function(x_test)[:6,:]))\n",
    "print(\"Argmax of decision function:\\n{}\".format(np.argmax(gbrt.decision_function(x_test),axis=1)))\n",
    "print(\"Predictions:\\n{}\".format(gbrt.predict(x_test)))\n",
    "print(\"Predicted probabilities:\\n{}\".format(gbrt.predict_proba(x_test)[:6]))\n",
    "print(\"Sums:{}\".format(gbrt.predict_proba(x_test)[:6].sum(axis=1)))\n",
    "print(\"Argmax of predicted probabilities:\\n{}\".format(np.argmax(gbrt.predict_proba(x_test),axis=1)))\n",
    "#print(\"Test set score:{:.2f}\".format(gbrt.score(x_test,y_test)))\n",
    "\n",
    "\n",
    "\n"
   ]
  }
 ],
 "metadata": {
  "kernelspec": {
   "display_name": "Python 3",
   "language": "python",
   "name": "python3"
  },
  "language_info": {
   "codemirror_mode": {
    "name": "ipython",
    "version": 3
   },
   "file_extension": ".py",
   "mimetype": "text/x-python",
   "name": "python",
   "nbconvert_exporter": "python",
   "pygments_lexer": "ipython3",
   "version": "3.6.3"
  }
 },
 "nbformat": 4,
 "nbformat_minor": 2
}
