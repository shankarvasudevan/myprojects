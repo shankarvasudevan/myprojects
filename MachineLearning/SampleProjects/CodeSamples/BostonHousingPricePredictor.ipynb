{
 "cells": [
  {
   "cell_type": "code",
   "execution_count": 18,
   "metadata": {},
   "outputs": [
    {
     "name": "stdout",
     "output_type": "stream",
     "text": [
      "lr.coef_: [ -475.051     7.662   -95.538    13.371    37.74     61.457    34.521\n",
      "    -1.208     2.894    79.738    13.918    37.587    -2.74     16.008\n",
      "   671.247  1420.257   232.123   -89.206    68.753    -4.985    58.782\n",
      "   752.035 -1810.75    521.677   -18.041   100.731    -4.266   -12.127\n",
      "    -3.703   -55.836    -0.071     8.513   -20.528   -35.823    42.557\n",
      "    -3.36     11.318   -32.6      37.286    -2.147     7.374    48.811\n",
      "     6.758    42.111    -7.854    -1.99     -3.419    33.419   -16.028\n",
      "    13.371   -18.004   -28.612    -2.858   -10.476     1.259    -1.475\n",
      "    -7.727     5.875   -10.731   -27.676   -14.36     -2.006    64.132\n",
      "   -17.442    63.411   -62.332   -10.927    20.343    32.246   -40.281\n",
      "   -22.556   -18.515   -49.945   -22.659   -10.7       2.344    -1.173\n",
      "    -0.109    32.592   -25.928     1.298   -14.264   -32.098    51.562\n",
      "     2.404   -35.118   -26.329   -29.845    13.959   -66.293    85.063\n",
      "   -32.485    34.65    -25.098   -16.082    32.376   -72.974   -19.49\n",
      "     3.173    10.436     3.605    -4.467     1.943    27.277]\n",
      "lr.intercept_: -34.73023401888585\n",
      "Training test score:0.94\n",
      "Test set score:0.79\n"
     ]
    }
   ],
   "source": [
    "%matplotlib inline\n",
    "from preamble import *\n",
    "from sklearn.datasets import load_boston\n",
    "from sklearn.model_selection import train_test_split\n",
    "from sklearn.neighbors import KNeighborsClassifier\n",
    "from sklearn.linear_model import LinearRegression\n",
    "\n",
    "import mglearn as mglearn\n",
    "\n",
    "boston = load_boston()\n",
    "\n",
    "x,y = mglearn.datasets.load_extended_boston()\n",
    "#x,y = mglearn.datasets.make_wave(n_samples=60)\n",
    "\n",
    "x_train,x_test,y_train,y_test = train_test_split(x, y, random_state=42)\n",
    "\n",
    "lr = LinearRegression().fit(x_train,y_train)\n",
    "\n",
    "print(\"lr.coef_: {}\".format(lr.coef_))\n",
    "print(\"lr.intercept_: {}\".format(lr.intercept_))\n",
    "\n",
    "print(\"Training test score:{:.2f}\".format(lr.score(x_train,y_train)))\n",
    "print(\"Test set score:{:.2f}\".format(lr.score(x_test,y_test)))\n"
   ]
  },
  {
   "cell_type": "code",
   "execution_count": null,
   "metadata": {
    "collapsed": true
   },
   "outputs": [],
   "source": [
    "\n"
   ]
  }
 ],
 "metadata": {
  "kernelspec": {
   "display_name": "Python 3",
   "language": "python",
   "name": "python3"
  },
  "language_info": {
   "codemirror_mode": {
    "name": "ipython",
    "version": 3
   },
   "file_extension": ".py",
   "mimetype": "text/x-python",
   "name": "python",
   "nbconvert_exporter": "python",
   "pygments_lexer": "ipython3",
   "version": "3.6.3"
  }
 },
 "nbformat": 4,
 "nbformat_minor": 2
}
