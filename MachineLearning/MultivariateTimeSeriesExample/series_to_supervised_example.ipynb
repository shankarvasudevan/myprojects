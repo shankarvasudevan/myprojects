{
 "cells": [
  {
   "cell_type": "markdown",
   "metadata": {},
   "source": [
    "# Define mock time series dataset"
   ]
  },
  {
   "cell_type": "code",
   "execution_count": 1,
   "metadata": {},
   "outputs": [
    {
     "name": "stdout",
     "output_type": "stream",
     "text": [
      "   t\n",
      "0  0\n",
      "1  1\n",
      "2  2\n",
      "3  3\n",
      "4  4\n",
      "5  5\n",
      "6  6\n",
      "7  7\n",
      "8  8\n",
      "9  9\n"
     ]
    }
   ],
   "source": [
    "from pandas import DataFrame\n",
    "\n",
    "df = DataFrame()\n",
    "df['t'] = [x for x in range(10)]\n",
    "print(df)"
   ]
  },
  {
   "cell_type": "markdown",
   "metadata": {},
   "source": [
    "# Shift observations down by one time step"
   ]
  },
  {
   "cell_type": "code",
   "execution_count": 2,
   "metadata": {},
   "outputs": [
    {
     "name": "stdout",
     "output_type": "stream",
     "text": [
      "   t  t+1\n",
      "0  0  1.0\n",
      "1  1  2.0\n",
      "2  2  3.0\n",
      "3  3  4.0\n",
      "4  4  5.0\n",
      "5  5  6.0\n",
      "6  6  7.0\n",
      "7  7  8.0\n",
      "8  8  9.0\n",
      "9  9  NaN\n"
     ]
    }
   ],
   "source": [
    "df['t+1'] = df['t'].shift(-1)\n",
    "print(df)"
   ]
  },
  {
   "cell_type": "markdown",
   "metadata": {},
   "source": [
    "# Define series to supervised function"
   ]
  },
  {
   "cell_type": "code",
   "execution_count": 3,
   "metadata": {},
   "outputs": [],
   "source": [
    "from pandas import DataFrame\n",
    "from pandas import concat\n",
    "\n",
    "def series_to_supervised(data, n_in=1, n_out=1, dropnan=True):\n",
    "    \"\"\"\n",
    "    Frame a time series as a supervised learning dataset\n",
    "    Arguments:\n",
    "        data: Sequence of observations as a list or NumPy array\n",
    "        n_in: Number of lag observations as input (X)\n",
    "        n_out: Number of observations as output\n",
    "        dropnan: Boolean whether or not to drop rows with NaN values\n",
    "    Returns:\n",
    "        Pandas DataFrame of series framed for supervised learning\n",
    "    \"\"\"\n",
    "    \n",
    "    # getting the number of columns\n",
    "    n_vars = 1 if type(data) is list else data.shape[1]\n",
    "    \n",
    "    df = DataFrame(data)\n",
    "    cols, names = list(),list()\n",
    "    \n",
    "    # input sequence (t-n, ... t-1)\n",
    "    for i in range(n_in, 0, -1):\n",
    "        cols.append(df.shift(i))\n",
    "        names += [('var%d(t-%d)' % (j+1, i)) for j in range(n_vars)]\n",
    "    \n",
    "    # forecast sequence (t, t+1, ..., t+n)\n",
    "    for i in range(0, n_out):\n",
    "        cols.append(df.shift(-i))\n",
    "        if i==0:\n",
    "            names += [('var%d(t+%d)' % (j+1,i)) for j in range(n_vars)]\n",
    "    \n",
    "    # put it all together\n",
    "    agg = concat(cols, axis=1)\n",
    "    agg.columns = names\n",
    "    \n",
    "    # drop rows with NaN values\n",
    "    if dropnan:\n",
    "        agg.dropna(inplace=True)\n",
    "    return agg\n"
   ]
  },
  {
   "cell_type": "markdown",
   "metadata": {},
   "source": [
    "# Test series to supervised function"
   ]
  },
  {
   "cell_type": "code",
   "execution_count": 4,
   "metadata": {},
   "outputs": [
    {
     "name": "stdout",
     "output_type": "stream",
     "text": [
      "     0      1\n",
      "0  0.1  100.0\n",
      "1  0.2  200.0\n",
      "2  0.3  300.0\n",
      "3  0.4  400.0\n",
      "4  0.5  500.0\n",
      "5  0.6  600.0\n",
      "6  0.7  700.0\n",
      "7  0.8  800.0\n",
      "8  0.9  900.0\n",
      "   var1(t-1)  var2(t-1)  var1(t+0)  var2(t+0)\n",
      "1        0.1      100.0        0.2      200.0\n",
      "2        0.2      200.0        0.3      300.0\n",
      "3        0.3      300.0        0.4      400.0\n",
      "4        0.4      400.0        0.5      500.0\n",
      "5        0.5      500.0        0.6      600.0\n",
      "6        0.6      600.0        0.7      700.0\n",
      "7        0.7      700.0        0.8      800.0\n",
      "8        0.8      800.0        0.9      900.0\n",
      "   var1(t-2)  var2(t-2)  var1(t-1)  var2(t-1)  var1(t+0)  var2(t+0)\n",
      "2        0.1      100.0        0.2      200.0        0.3      300.0\n",
      "3        0.2      200.0        0.3      300.0        0.4      400.0\n",
      "4        0.3      300.0        0.4      400.0        0.5      500.0\n",
      "5        0.4      400.0        0.5      500.0        0.6      600.0\n",
      "6        0.5      500.0        0.6      600.0        0.7      700.0\n",
      "7        0.6      600.0        0.7      700.0        0.8      800.0\n",
      "8        0.7      700.0        0.8      800.0        0.9      900.0\n"
     ]
    }
   ],
   "source": [
    "import numpy as np\n",
    "\n",
    "data1 = np.array([[0.1,100],[0.2, 200],[0.3,300],[0.4,400],[0.5,500],[0.6,600],[0.7,700],[0.8,800],[0.9,900]])\n",
    "\n",
    "reframed_data1_v1 = series_to_supervised(data1, 1)\n",
    "reframed_data1_v2 = series_to_supervised(data1, 2)\n",
    "\n",
    "print(DataFrame(data1))\n",
    "print(reframed_data1_v1)\n",
    "print(reframed_data1_v2)"
   ]
  }
 ],
 "metadata": {
  "kernelspec": {
   "display_name": "Python 3",
   "language": "python",
   "name": "python3"
  },
  "language_info": {
   "codemirror_mode": {
    "name": "ipython",
    "version": 3
   },
   "file_extension": ".py",
   "mimetype": "text/x-python",
   "name": "python",
   "nbconvert_exporter": "python",
   "pygments_lexer": "ipython3",
   "version": "3.6.3"
  }
 },
 "nbformat": 4,
 "nbformat_minor": 2
}
