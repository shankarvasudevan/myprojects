{
 "cells": [
  {
   "cell_type": "code",
   "execution_count": 12,
   "metadata": {},
   "outputs": [
    {
     "name": "stdout",
     "output_type": "stream",
     "text": [
      "Accuracy on training set:0.988\n",
      "Accuracy on test set:0.965\n",
      "x_test.shape:(143, 30)\n",
      "Decision function shape:(143,)\n",
      "Decision function:\n",
      "[-1.14446016  1.68027315  1.7743656   1.7531149   1.7743656   1.7743656 ]\n",
      "Thresholded decision function:\n",
      "[False  True  True  True  True  True  True  True  True  True False  True\n",
      "  True False False False  True False False False False False  True  True\n",
      " False  True  True False  True False  True False  True False  True False\n",
      "  True False  True False False  True False  True  True False  True  True\n",
      "  True False False False False  True  True  True  True  True  True False\n",
      " False False  True  True False  True False False False  True  True False\n",
      "  True  True False  True  True  True  True  True False False False  True\n",
      " False  True  True  True False False  True  True  True False  True  True\n",
      " False  True  True  True  True  True  True  True False  True False  True\n",
      " False False  True False False  True  True  True  True  True  True  True\n",
      "  True  True False  True False  True  True  True  True  True False  True\n",
      "  True  True  True  True  True False False  True  True  True False]\n",
      "Predictions:\n",
      "[0 1 1 1 1 1 1 1 1 1 0 1 1 0 0 0 1 0 0 0 0 0 1 1 0 1 1 0 1 0 1 0 1 0 1 0 1\n",
      " 0 1 0 0 1 0 1 1 0 1 1 1 0 0 0 0 1 1 1 1 1 1 0 0 0 1 1 0 1 0 0 0 1 1 0 1 1\n",
      " 0 1 1 1 1 1 0 0 0 1 0 1 1 1 0 0 1 1 1 0 1 1 0 1 1 1 1 1 1 1 0 1 0 1 0 0 1\n",
      " 0 0 1 1 1 1 1 1 1 1 1 0 1 0 1 1 1 1 1 0 1 1 1 1 1 1 0 0 1 1 1 0]\n"
     ]
    }
   ],
   "source": [
    "%matplotlib inline\n",
    "from sklearn.ensemble import GradientBoostingClassifier\n",
    "from sklearn.datasets import load_breast_cancer\n",
    "from sklearn.model_selection import train_test_split\n",
    "import matplotlib.pyplot as plt\n",
    "\n",
    "import mglearn as mglearn\n",
    "\n",
    "cancer = load_breast_cancer()\n",
    "\n",
    "x_train,x_test,y_train,y_test = train_test_split(cancer.data, cancer.target, random_state=0)\n",
    "\n",
    "gbrt = GradientBoostingClassifier(random_state=0,learning_rate=0.01)\n",
    "gbrt.fit(x_train,y_train)\n",
    "\n",
    "print(\"Accuracy on training set:{:.3f}\".format(gbrt.score(x_train,y_train)))\n",
    "print(\"Accuracy on test set:{:.3f}\".format(gbrt.score(x_test,y_test)))\n",
    "\n",
    "print(\"x_test.shape:{}\".format(x_test.shape))\n",
    "print(\"Decision function shape:{}\".format(gbrt.decision_function(x_test).shape))\n",
    "print(\"Decision function:\\n{}\".format(gbrt.decision_function(x_test)[:6]))\n",
    "\n",
    "print(\"Thresholded decision function:\\n{}\".format(gbrt.decision_function(x_test) > 0))\n",
    "print(\"Predictions:\\n{}\".format(gbrt.predict(x_test)))"
   ]
  }
 ],
 "metadata": {
  "kernelspec": {
   "display_name": "Python 3",
   "language": "python",
   "name": "python3"
  },
  "language_info": {
   "codemirror_mode": {
    "name": "ipython",
    "version": 3
   },
   "file_extension": ".py",
   "mimetype": "text/x-python",
   "name": "python",
   "nbconvert_exporter": "python",
   "pygments_lexer": "ipython3",
   "version": "3.6.3"
  }
 },
 "nbformat": 4,
 "nbformat_minor": 2
}
