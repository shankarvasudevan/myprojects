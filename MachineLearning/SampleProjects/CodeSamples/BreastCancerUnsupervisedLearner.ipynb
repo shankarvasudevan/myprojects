{
 "cells": [
  {
   "cell_type": "code",
   "execution_count": 2,
   "metadata": {},
   "outputs": [
    {
     "name": "stdout",
     "output_type": "stream",
     "text": [
      "(426, 30)\n",
      "(143, 30)\n",
      "transformed shape:(426, 30)\n",
      "per-feature minimum before scaling:\n",
      "[  6.98100000e+00   9.71000000e+00   4.37900000e+01   1.43500000e+02\n",
      "   6.25100000e-02   1.93800000e-02   0.00000000e+00   0.00000000e+00\n",
      "   1.06000000e-01   4.99600000e-02   1.11500000e-01   3.60200000e-01\n",
      "   7.57000000e-01   7.22800000e+00   1.71300000e-03   2.25200000e-03\n",
      "   0.00000000e+00   0.00000000e+00   7.88200000e-03   8.94800000e-04\n",
      "   7.93000000e+00   1.20200000e+01   5.04100000e+01   1.85200000e+02\n",
      "   7.11700000e-02   2.72900000e-02   0.00000000e+00   0.00000000e+00\n",
      "   1.56500000e-01   5.50400000e-02]\n",
      "per-feature maximum before scaling:\n",
      "[  2.81100000e+01   3.92800000e+01   1.88500000e+02   2.49900000e+03\n",
      "   1.42500000e-01   3.45400000e-01   4.26400000e-01   1.91300000e-01\n",
      "   3.04000000e-01   9.74400000e-02   2.87300000e+00   4.88500000e+00\n",
      "   2.19800000e+01   5.25600000e+02   3.11300000e-02   1.35400000e-01\n",
      "   3.96000000e-01   5.27900000e-02   7.89500000e-02   2.98400000e-02\n",
      "   3.31300000e+01   4.95400000e+01   2.29300000e+02   3.43200000e+03\n",
      "   2.18400000e-01   1.05800000e+00   1.25200000e+00   2.91000000e-01\n",
      "   6.63800000e-01   2.07500000e-01]\n",
      "per-feature minimum after scaling:\n",
      "[ 0.  0.  0.  0.  0.  0.  0.  0.  0.  0.  0.  0.  0.  0.  0.  0.  0.  0.\n",
      "  0.  0.  0.  0.  0.  0.  0.  0.  0.  0.  0.  0.]\n",
      "per-feature maximum after scaling:\n",
      "[ 1.  1.  1.  1.  1.  1.  1.  1.  1.  1.  1.  1.  1.  1.  1.  1.  1.  1.\n",
      "  1.  1.  1.  1.  1.  1.  1.  1.  1.  1.  1.  1.]\n"
     ]
    }
   ],
   "source": [
    "from sklearn.datasets import load_breast_cancer\n",
    "from sklearn.model_selection import train_test_split\n",
    "from sklearn.preprocessing import MinMaxScaler\n",
    "from sklearn.tree import export_graphviz\n",
    "\n",
    "cancer = load_breast_cancer()\n",
    "scaler = MinMaxScaler()\n",
    "\n",
    "x_train,x_test,y_train,y_test = train_test_split(cancer.data,cancer.target,stratify=cancer.target,random_state=42)\n",
    "\n",
    "print(x_train.shape)\n",
    "print(x_test.shape)\n",
    "\n",
    "scaler.fit(x_train)\n",
    "\n",
    "x_train_scaled = scaler.transform(x_train)\n",
    "\n",
    "print(\"transformed shape:{}\".format(x_train_scaled.shape))\n",
    "print(\"per-feature minimum before scaling:\\n{}\".format(x_train.min(axis=0)))\n",
    "print(\"per-feature maximum before scaling:\\n{}\".format(x_train.max(axis=0)))\n",
    "print(\"per-feature minimum after scaling:\\n{}\".format(x_train_scaled.min(axis=0)))\n",
    "print(\"per-feature maximum after scaling:\\n{}\".format(x_train_scaled.max(axis=0)))"
   ]
  }
 ],
 "metadata": {
  "kernelspec": {
   "display_name": "Python 3",
   "language": "python",
   "name": "python3"
  },
  "language_info": {
   "codemirror_mode": {
    "name": "ipython",
    "version": 3
   },
   "file_extension": ".py",
   "mimetype": "text/x-python",
   "name": "python",
   "nbconvert_exporter": "python",
   "pygments_lexer": "ipython3",
   "version": "3.6.3"
  }
 },
 "nbformat": 4,
 "nbformat_minor": 2
}
